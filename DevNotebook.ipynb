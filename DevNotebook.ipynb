{
 "cells": [
  {
   "cell_type": "markdown",
   "metadata": {},
   "source": [
    "---\n",
    "#### Analytics Engineering Dev Notebook\n",
    "\n",
    "---"
   ]
  },
  {
   "cell_type": "markdown",
   "metadata": {},
   "source": [
    "Build an API ?\n",
    "- develop in Python\n",
    "- publish to web\n",
    "    - Streamlit free level ?\n",
    "    - GitHub ? \n",
    "    - Netlify ?\n",
    "    - Other ?\n",
    "- Use for ML project ?\n",
    "    - user upload data and model provides output - push / get mix ? \n",
    "\n",
    "Create a data lake ? \n",
    "- pull multiple sources\n",
    "- clean, shape, format, merge...\n",
    "- publish to open source storage - GitHub ?\n",
    "- automate updates - data to determine frequency\n",
    "    - How best to automate the initiation of the process ? \n",
    "\n",
    "What data to focus on ? \n",
    "- Scottish environment ? \n",
    "    - SEPA APIs\n",
    "    - SW data - access point ? \n",
    "    - NG carbon intensity / generation data\n",
    "    - mapping data for geneartion and populations\n",
    "\n",
    "- Something more fun ? What ? \n",
    "\n",
    "- Spotify APIs ? \n",
    "\n",
    "- Twitter APIs ? \n",
    "\n",
    "- What what what ? ? ? "
   ]
  },
  {
   "cell_type": "markdown",
   "metadata": {},
   "source": []
  }
 ],
 "metadata": {
  "interpreter": {
   "hash": "67ff2b08a60b3c8d3383ece141b44d84ac527aa0fb2b4d51a958291ceaf46288"
  },
  "kernelspec": {
   "display_name": "Python 3.9.5 64-bit",
   "language": "python",
   "name": "python3"
  },
  "language_info": {
   "name": "python",
   "version": "3.9.5"
  },
  "orig_nbformat": 4
 },
 "nbformat": 4,
 "nbformat_minor": 2
}
